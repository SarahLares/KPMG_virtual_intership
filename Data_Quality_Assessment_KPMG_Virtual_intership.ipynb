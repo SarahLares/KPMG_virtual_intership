{
  "nbformat": 4,
  "nbformat_minor": 0,
  "metadata": {
    "colab": {
      "name": "Data_Quality_Assessment_KPMG_Virtual_intership.ipynb",
      "provenance": [],
      "collapsed_sections": [],
      "mount_file_id": "1J_kcFYeqpElCVOWXXOFFKch8k2HCvGra",
      "authorship_tag": "ABX9TyMjwdv/zf9cg+U9fYHmWQfz",
      "include_colab_link": true
    },
    "kernelspec": {
      "name": "python3",
      "display_name": "Python 3"
    }
  },
  "cells": [
    {
      "cell_type": "markdown",
      "metadata": {
        "id": "view-in-github",
        "colab_type": "text"
      },
      "source": [
        "<a href=\"https://colab.research.google.com/github/SarahLares/KPMG_virtual_intership/blob/master/Data_Quality_Assessment_KPMG_Virtual_intership.ipynb\" target=\"_parent\"><img src=\"https://colab.research.google.com/assets/colab-badge.svg\" alt=\"Open In Colab\"/></a>"
      ]
    },
    {
      "cell_type": "markdown",
      "metadata": {
        "id": "U8JDctIZ57pY",
        "colab_type": "text"
      },
      "source": [
        "![image.png](data:image/png;base64,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)"
      ]
    },
    {
      "cell_type": "markdown",
      "metadata": {
        "id": "BpIr6hfw4sI7",
        "colab_type": "text"
      },
      "source": [
        "## **First Task:** Data Quality."
      ]
    },
    {
      "cell_type": "markdown",
      "metadata": {
        "id": "62yaKGgb44bl",
        "colab_type": "text"
      },
      "source": [
        "The client provided KPMG with 3 datasets:\n",
        "\n",
        "* Customer Demographic \n",
        "\n",
        "\n",
        "* Customer Addresses\n",
        "\n",
        "\n",
        "* Transactions data in the past 3 months\n",
        "\n",
        "\n",
        "You decide to start the preliminary data exploration and identify ways to improve the quality of Sprocket Central Pty Ltd’s data."
      ]
    },
    {
      "cell_type": "code",
      "metadata": {
        "id": "RANC8JM-12Zc",
        "colab_type": "code",
        "colab": {}
      },
      "source": [
        "import pandas as pd\n",
        "import numpy as np\n",
        "import matplotlib.pyplot as plt"
      ],
      "execution_count": null,
      "outputs": []
    },
    {
      "cell_type": "markdown",
      "metadata": {
        "id": "6HwcU2Di3Mg9",
        "colab_type": "text"
      },
      "source": [
        "### Importing the Data"
      ]
    },
    {
      "cell_type": "code",
      "metadata": {
        "id": "mzMEh9ss3P7C",
        "colab_type": "code",
        "colab": {}
      },
      "source": [
        "df_Costumer_Address = pd.read_csv('/tmp/CustomerAddress.csv')\n",
        "df_Costumer_Demographic = pd.read_csv('/tmp/CustomerDemographic.csv')\n",
        "df_Transactions = pd.read_csv('/tmp/Transactions.csv')"
      ],
      "execution_count": null,
      "outputs": []
    },
    {
      "cell_type": "markdown",
      "metadata": {
        "id": "L_yRo8R07bo-",
        "colab_type": "text"
      },
      "source": [
        "let's take a look at the data"
      ]
    },
    {
      "cell_type": "code",
      "metadata": {
        "id": "h8-bTQbo3Zhq",
        "colab_type": "code",
        "colab": {
          "base_uri": "https://localhost:8080/",
          "height": 204
        },
        "outputId": "96b34917-6067-4372-98f4-17a3fb2ebcd5"
      },
      "source": [
        "df_Costumer_Address.head()"
      ],
      "execution_count": null,
      "outputs": [
        {
          "output_type": "execute_result",
          "data": {
            "text/html": [
              "<div>\n",
              "<style scoped>\n",
              "    .dataframe tbody tr th:only-of-type {\n",
              "        vertical-align: middle;\n",
              "    }\n",
              "\n",
              "    .dataframe tbody tr th {\n",
              "        vertical-align: top;\n",
              "    }\n",
              "\n",
              "    .dataframe thead th {\n",
              "        text-align: right;\n",
              "    }\n",
              "</style>\n",
              "<table border=\"1\" class=\"dataframe\">\n",
              "  <thead>\n",
              "    <tr style=\"text-align: right;\">\n",
              "      <th></th>\n",
              "      <th>customer_id</th>\n",
              "      <th>address</th>\n",
              "      <th>postcode</th>\n",
              "      <th>state</th>\n",
              "      <th>country</th>\n",
              "      <th>property_valuation</th>\n",
              "    </tr>\n",
              "  </thead>\n",
              "  <tbody>\n",
              "    <tr>\n",
              "      <th>0</th>\n",
              "      <td>1</td>\n",
              "      <td>060 Morning Avenue</td>\n",
              "      <td>2016</td>\n",
              "      <td>New South Wales</td>\n",
              "      <td>Australia</td>\n",
              "      <td>10</td>\n",
              "    </tr>\n",
              "    <tr>\n",
              "      <th>1</th>\n",
              "      <td>2</td>\n",
              "      <td>6 Meadow Vale Court</td>\n",
              "      <td>2153</td>\n",
              "      <td>New South Wales</td>\n",
              "      <td>Australia</td>\n",
              "      <td>10</td>\n",
              "    </tr>\n",
              "    <tr>\n",
              "      <th>2</th>\n",
              "      <td>4</td>\n",
              "      <td>0 Holy Cross Court</td>\n",
              "      <td>4211</td>\n",
              "      <td>QLD</td>\n",
              "      <td>Australia</td>\n",
              "      <td>9</td>\n",
              "    </tr>\n",
              "    <tr>\n",
              "      <th>3</th>\n",
              "      <td>5</td>\n",
              "      <td>17979 Del Mar Point</td>\n",
              "      <td>2448</td>\n",
              "      <td>New South Wales</td>\n",
              "      <td>Australia</td>\n",
              "      <td>4</td>\n",
              "    </tr>\n",
              "    <tr>\n",
              "      <th>4</th>\n",
              "      <td>6</td>\n",
              "      <td>9 Oakridge Court</td>\n",
              "      <td>3216</td>\n",
              "      <td>VIC</td>\n",
              "      <td>Australia</td>\n",
              "      <td>9</td>\n",
              "    </tr>\n",
              "  </tbody>\n",
              "</table>\n",
              "</div>"
            ],
            "text/plain": [
              "   customer_id              address  ...    country property_valuation\n",
              "0            1   060 Morning Avenue  ...  Australia                 10\n",
              "1            2  6 Meadow Vale Court  ...  Australia                 10\n",
              "2            4   0 Holy Cross Court  ...  Australia                  9\n",
              "3            5  17979 Del Mar Point  ...  Australia                  4\n",
              "4            6     9 Oakridge Court  ...  Australia                  9\n",
              "\n",
              "[5 rows x 6 columns]"
            ]
          },
          "metadata": {
            "tags": []
          },
          "execution_count": 6
        }
      ]
    },
    {
      "cell_type": "code",
      "metadata": {
        "id": "uouRb3_17iNo",
        "colab_type": "code",
        "colab": {
          "base_uri": "https://localhost:8080/",
          "height": 326
        },
        "outputId": "8405c6c4-deb2-4b45-f271-130ab5272af7"
      },
      "source": [
        "df_Costumer_Demographic.head()"
      ],
      "execution_count": null,
      "outputs": [
        {
          "output_type": "execute_result",
          "data": {
            "text/html": [
              "<div>\n",
              "<style scoped>\n",
              "    .dataframe tbody tr th:only-of-type {\n",
              "        vertical-align: middle;\n",
              "    }\n",
              "\n",
              "    .dataframe tbody tr th {\n",
              "        vertical-align: top;\n",
              "    }\n",
              "\n",
              "    .dataframe thead th {\n",
              "        text-align: right;\n",
              "    }\n",
              "</style>\n",
              "<table border=\"1\" class=\"dataframe\">\n",
              "  <thead>\n",
              "    <tr style=\"text-align: right;\">\n",
              "      <th></th>\n",
              "      <th>customer_id</th>\n",
              "      <th>first_name</th>\n",
              "      <th>last_name</th>\n",
              "      <th>gender</th>\n",
              "      <th>past_3_years_bike_related_purchases</th>\n",
              "      <th>DOB</th>\n",
              "      <th>job_title</th>\n",
              "      <th>job_industry_category</th>\n",
              "      <th>wealth_segment</th>\n",
              "      <th>deceased_indicator</th>\n",
              "      <th>default</th>\n",
              "      <th>owns_car</th>\n",
              "      <th>tenure</th>\n",
              "    </tr>\n",
              "  </thead>\n",
              "  <tbody>\n",
              "    <tr>\n",
              "      <th>0</th>\n",
              "      <td>1</td>\n",
              "      <td>Laraine</td>\n",
              "      <td>Medendorp</td>\n",
              "      <td>F</td>\n",
              "      <td>93</td>\n",
              "      <td>1953-10-12</td>\n",
              "      <td>Executive Secretary</td>\n",
              "      <td>Health</td>\n",
              "      <td>Mass Customer</td>\n",
              "      <td>N</td>\n",
              "      <td>\"'</td>\n",
              "      <td>Yes</td>\n",
              "      <td>11.0</td>\n",
              "    </tr>\n",
              "    <tr>\n",
              "      <th>1</th>\n",
              "      <td>2</td>\n",
              "      <td>Eli</td>\n",
              "      <td>Bockman</td>\n",
              "      <td>Male</td>\n",
              "      <td>81</td>\n",
              "      <td>1980-12-16</td>\n",
              "      <td>Administrative Officer</td>\n",
              "      <td>Financial Services</td>\n",
              "      <td>Mass Customer</td>\n",
              "      <td>N</td>\n",
              "      <td>&lt;script&gt;alert('hi')&lt;/script&gt;</td>\n",
              "      <td>Yes</td>\n",
              "      <td>16.0</td>\n",
              "    </tr>\n",
              "    <tr>\n",
              "      <th>2</th>\n",
              "      <td>3</td>\n",
              "      <td>Arlin</td>\n",
              "      <td>Dearle</td>\n",
              "      <td>Male</td>\n",
              "      <td>61</td>\n",
              "      <td>1954-01-20</td>\n",
              "      <td>Recruiting Manager</td>\n",
              "      <td>Property</td>\n",
              "      <td>Mass Customer</td>\n",
              "      <td>N</td>\n",
              "      <td>01-feb</td>\n",
              "      <td>Yes</td>\n",
              "      <td>15.0</td>\n",
              "    </tr>\n",
              "    <tr>\n",
              "      <th>3</th>\n",
              "      <td>4</td>\n",
              "      <td>Talbot</td>\n",
              "      <td>NaN</td>\n",
              "      <td>Male</td>\n",
              "      <td>33</td>\n",
              "      <td>1961-10-03</td>\n",
              "      <td>NaN</td>\n",
              "      <td>IT</td>\n",
              "      <td>Mass Customer</td>\n",
              "      <td>N</td>\n",
              "      <td>() { _; } &gt;_[$($())] { touch /tmp/blns.shellsh...</td>\n",
              "      <td>No</td>\n",
              "      <td>7.0</td>\n",
              "    </tr>\n",
              "    <tr>\n",
              "      <th>4</th>\n",
              "      <td>5</td>\n",
              "      <td>Sheila-kathryn</td>\n",
              "      <td>Calton</td>\n",
              "      <td>Female</td>\n",
              "      <td>56</td>\n",
              "      <td>1977-05-13</td>\n",
              "      <td>Senior Editor</td>\n",
              "      <td>NaN</td>\n",
              "      <td>Affluent Customer</td>\n",
              "      <td>N</td>\n",
              "      <td>NIL</td>\n",
              "      <td>Yes</td>\n",
              "      <td>8.0</td>\n",
              "    </tr>\n",
              "  </tbody>\n",
              "</table>\n",
              "</div>"
            ],
            "text/plain": [
              "   customer_id      first_name  ... owns_car tenure\n",
              "0            1         Laraine  ...      Yes   11.0\n",
              "1            2             Eli  ...      Yes   16.0\n",
              "2            3           Arlin  ...      Yes   15.0\n",
              "3            4          Talbot  ...       No    7.0\n",
              "4            5  Sheila-kathryn  ...      Yes    8.0\n",
              "\n",
              "[5 rows x 13 columns]"
            ]
          },
          "metadata": {
            "tags": []
          },
          "execution_count": 7
        }
      ]
    },
    {
      "cell_type": "code",
      "metadata": {
        "id": "gMo-BzwY77Vr",
        "colab_type": "code",
        "colab": {
          "base_uri": "https://localhost:8080/",
          "height": 292
        },
        "outputId": "3ee989b1-7265-423f-e1b9-b51c3b9f4052"
      },
      "source": [
        "df_Transactions.head()"
      ],
      "execution_count": null,
      "outputs": [
        {
          "output_type": "execute_result",
          "data": {
            "text/html": [
              "<div>\n",
              "<style scoped>\n",
              "    .dataframe tbody tr th:only-of-type {\n",
              "        vertical-align: middle;\n",
              "    }\n",
              "\n",
              "    .dataframe tbody tr th {\n",
              "        vertical-align: top;\n",
              "    }\n",
              "\n",
              "    .dataframe thead th {\n",
              "        text-align: right;\n",
              "    }\n",
              "</style>\n",
              "<table border=\"1\" class=\"dataframe\">\n",
              "  <thead>\n",
              "    <tr style=\"text-align: right;\">\n",
              "      <th></th>\n",
              "      <th>transaction_id</th>\n",
              "      <th>product_id</th>\n",
              "      <th>customer_id</th>\n",
              "      <th>transaction_date</th>\n",
              "      <th>online_order</th>\n",
              "      <th>order_status</th>\n",
              "      <th>brand</th>\n",
              "      <th>product_line</th>\n",
              "      <th>product_class</th>\n",
              "      <th>product_size</th>\n",
              "      <th>list_price</th>\n",
              "      <th>standard_cost</th>\n",
              "      <th>product_first_sold_date</th>\n",
              "    </tr>\n",
              "  </thead>\n",
              "  <tbody>\n",
              "    <tr>\n",
              "      <th>0</th>\n",
              "      <td>1</td>\n",
              "      <td>2</td>\n",
              "      <td>2950</td>\n",
              "      <td>25/02/2017</td>\n",
              "      <td>0.0</td>\n",
              "      <td>Approved</td>\n",
              "      <td>Solex</td>\n",
              "      <td>Standard</td>\n",
              "      <td>medium</td>\n",
              "      <td>medium</td>\n",
              "      <td>71,49</td>\n",
              "      <td>$53,62</td>\n",
              "      <td>41245.0</td>\n",
              "    </tr>\n",
              "    <tr>\n",
              "      <th>1</th>\n",
              "      <td>2</td>\n",
              "      <td>3</td>\n",
              "      <td>3120</td>\n",
              "      <td>21/05/2017</td>\n",
              "      <td>1.0</td>\n",
              "      <td>Approved</td>\n",
              "      <td>Trek Bicycles</td>\n",
              "      <td>Standard</td>\n",
              "      <td>medium</td>\n",
              "      <td>large</td>\n",
              "      <td>2091,47</td>\n",
              "      <td>$388,92</td>\n",
              "      <td>41701.0</td>\n",
              "    </tr>\n",
              "    <tr>\n",
              "      <th>2</th>\n",
              "      <td>3</td>\n",
              "      <td>37</td>\n",
              "      <td>402</td>\n",
              "      <td>16/10/2017</td>\n",
              "      <td>0.0</td>\n",
              "      <td>Approved</td>\n",
              "      <td>OHM Cycles</td>\n",
              "      <td>Standard</td>\n",
              "      <td>low</td>\n",
              "      <td>medium</td>\n",
              "      <td>1793,43</td>\n",
              "      <td>$248,82</td>\n",
              "      <td>36361.0</td>\n",
              "    </tr>\n",
              "    <tr>\n",
              "      <th>3</th>\n",
              "      <td>4</td>\n",
              "      <td>88</td>\n",
              "      <td>3135</td>\n",
              "      <td>31/08/2017</td>\n",
              "      <td>0.0</td>\n",
              "      <td>Approved</td>\n",
              "      <td>Norco Bicycles</td>\n",
              "      <td>Standard</td>\n",
              "      <td>medium</td>\n",
              "      <td>medium</td>\n",
              "      <td>1198,46</td>\n",
              "      <td>$381,10</td>\n",
              "      <td>36145.0</td>\n",
              "    </tr>\n",
              "    <tr>\n",
              "      <th>4</th>\n",
              "      <td>5</td>\n",
              "      <td>78</td>\n",
              "      <td>787</td>\n",
              "      <td>01/10/2017</td>\n",
              "      <td>1.0</td>\n",
              "      <td>Approved</td>\n",
              "      <td>Giant Bicycles</td>\n",
              "      <td>Standard</td>\n",
              "      <td>medium</td>\n",
              "      <td>large</td>\n",
              "      <td>1765,3</td>\n",
              "      <td>$709,48</td>\n",
              "      <td>42226.0</td>\n",
              "    </tr>\n",
              "  </tbody>\n",
              "</table>\n",
              "</div>"
            ],
            "text/plain": [
              "   transaction_id  product_id  ...  standard_cost product_first_sold_date\n",
              "0               1           2  ...         $53,62                 41245.0\n",
              "1               2           3  ...        $388,92                 41701.0\n",
              "2               3          37  ...        $248,82                 36361.0\n",
              "3               4          88  ...        $381,10                 36145.0\n",
              "4               5          78  ...        $709,48                 42226.0\n",
              "\n",
              "[5 rows x 13 columns]"
            ]
          },
          "metadata": {
            "tags": []
          },
          "execution_count": 9
        }
      ]
    },
    {
      "cell_type": "code",
      "metadata": {
        "id": "3qKtHBfN0riV",
        "colab_type": "code",
        "colab": {
          "base_uri": "https://localhost:8080/",
          "height": 51
        },
        "outputId": "0bd5ed60-bb83-410b-e4b0-7ec811dc6965"
      },
      "source": [
        "print('Number of customer in master file {}'.format(df_Costumer_Demographic.shape[0]))\n",
        "print('Number of customer in the address file {}'.format(df_Costumer_Address.shape[0]))\n"
      ],
      "execution_count": null,
      "outputs": [
        {
          "output_type": "stream",
          "text": [
            "Number of customer in master file 4000\n",
            "Number of customer in the address file 3999\n"
          ],
          "name": "stdout"
        }
      ]
    },
    {
      "cell_type": "markdown",
      "metadata": {
        "id": "9bFurhsn6d2N",
        "colab_type": "text"
      },
      "source": [
        "\n",
        "\n",
        "> Both files must have the same number of customers, since they have the same period of time.\n",
        "\n"
      ]
    },
    {
      "cell_type": "markdown",
      "metadata": {
        "id": "BsFSDqTYGV6c",
        "colab_type": "text"
      },
      "source": [
        "### Warm up task"
      ]
    },
    {
      "cell_type": "markdown",
      "metadata": {
        "id": "NIElwVtvIQlA",
        "colab_type": "text"
      },
      "source": [
        "We order the data set in an ascending order according to the date of birth of the Costumers"
      ]
    },
    {
      "cell_type": "code",
      "metadata": {
        "id": "WaUDljknGeDN",
        "colab_type": "code",
        "colab": {
          "base_uri": "https://localhost:8080/",
          "height": 575
        },
        "outputId": "ab655d9a-51cd-4a60-ec8c-749e848354fe"
      },
      "source": [
        "df_Costumer_Demographic.sort_values(by= ['DOB'])"
      ],
      "execution_count": null,
      "outputs": [
        {
          "output_type": "execute_result",
          "data": {
            "text/html": [
              "<div>\n",
              "<style scoped>\n",
              "    .dataframe tbody tr th:only-of-type {\n",
              "        vertical-align: middle;\n",
              "    }\n",
              "\n",
              "    .dataframe tbody tr th {\n",
              "        vertical-align: top;\n",
              "    }\n",
              "\n",
              "    .dataframe thead th {\n",
              "        text-align: right;\n",
              "    }\n",
              "</style>\n",
              "<table border=\"1\" class=\"dataframe\">\n",
              "  <thead>\n",
              "    <tr style=\"text-align: right;\">\n",
              "      <th></th>\n",
              "      <th>customer_id</th>\n",
              "      <th>first_name</th>\n",
              "      <th>last_name</th>\n",
              "      <th>gender</th>\n",
              "      <th>past_3_years_bike_related_purchases</th>\n",
              "      <th>DOB</th>\n",
              "      <th>job_title</th>\n",
              "      <th>job_industry_category</th>\n",
              "      <th>wealth_segment</th>\n",
              "      <th>deceased_indicator</th>\n",
              "      <th>default</th>\n",
              "      <th>owns_car</th>\n",
              "      <th>tenure</th>\n",
              "    </tr>\n",
              "  </thead>\n",
              "  <tbody>\n",
              "    <tr>\n",
              "      <th>33</th>\n",
              "      <td>34</td>\n",
              "      <td>Jephthah</td>\n",
              "      <td>Bachmann</td>\n",
              "      <td>U</td>\n",
              "      <td>59</td>\n",
              "      <td>1843-12-21</td>\n",
              "      <td>Legal Assistant</td>\n",
              "      <td>IT</td>\n",
              "      <td>Affluent Customer</td>\n",
              "      <td>N</td>\n",
              "      <td>NaN</td>\n",
              "      <td>No</td>\n",
              "      <td>20.0</td>\n",
              "    </tr>\n",
              "    <tr>\n",
              "      <th>719</th>\n",
              "      <td>720</td>\n",
              "      <td>Darrel</td>\n",
              "      <td>Canet</td>\n",
              "      <td>Male</td>\n",
              "      <td>67</td>\n",
              "      <td>1931-10-23</td>\n",
              "      <td>Recruiting Manager</td>\n",
              "      <td>Retail</td>\n",
              "      <td>Affluent Customer</td>\n",
              "      <td>N</td>\n",
              "      <td>1;DROP TABLE users</td>\n",
              "      <td>No</td>\n",
              "      <td>6.0</td>\n",
              "    </tr>\n",
              "    <tr>\n",
              "      <th>1091</th>\n",
              "      <td>1092</td>\n",
              "      <td>Katlin</td>\n",
              "      <td>Creddon</td>\n",
              "      <td>Female</td>\n",
              "      <td>56</td>\n",
              "      <td>1935-08-22</td>\n",
              "      <td>VP Quality Control</td>\n",
              "      <td>Retail</td>\n",
              "      <td>Mass Customer</td>\n",
              "      <td>N</td>\n",
              "      <td>ì¬íê³¼íì ì´íì°êµ¬ì</td>\n",
              "      <td>No</td>\n",
              "      <td>5.0</td>\n",
              "    </tr>\n",
              "    <tr>\n",
              "      <th>3409</th>\n",
              "      <td>3410</td>\n",
              "      <td>Merrili</td>\n",
              "      <td>Brittin</td>\n",
              "      <td>Female</td>\n",
              "      <td>93</td>\n",
              "      <td>1940-09-22</td>\n",
              "      <td>NaN</td>\n",
              "      <td>Property</td>\n",
              "      <td>Mass Customer</td>\n",
              "      <td>N</td>\n",
              "      <td>á</td>\n",
              "      <td>No</td>\n",
              "      <td>16.0</td>\n",
              "    </tr>\n",
              "    <tr>\n",
              "      <th>2412</th>\n",
              "      <td>2413</td>\n",
              "      <td>Abbey</td>\n",
              "      <td>Murrow</td>\n",
              "      <td>Male</td>\n",
              "      <td>27</td>\n",
              "      <td>1943-08-11</td>\n",
              "      <td>Environmental Specialist</td>\n",
              "      <td>Manufacturing</td>\n",
              "      <td>High Net Worth</td>\n",
              "      <td>N</td>\n",
              "      <td>á</td>\n",
              "      <td>Yes</td>\n",
              "      <td>17.0</td>\n",
              "    </tr>\n",
              "    <tr>\n",
              "      <th>...</th>\n",
              "      <td>...</td>\n",
              "      <td>...</td>\n",
              "      <td>...</td>\n",
              "      <td>...</td>\n",
              "      <td>...</td>\n",
              "      <td>...</td>\n",
              "      <td>...</td>\n",
              "      <td>...</td>\n",
              "      <td>...</td>\n",
              "      <td>...</td>\n",
              "      <td>...</td>\n",
              "      <td>...</td>\n",
              "      <td>...</td>\n",
              "    </tr>\n",
              "    <tr>\n",
              "      <th>3778</th>\n",
              "      <td>3779</td>\n",
              "      <td>Ulick</td>\n",
              "      <td>Daspar</td>\n",
              "      <td>U</td>\n",
              "      <td>68</td>\n",
              "      <td>NaN</td>\n",
              "      <td>NaN</td>\n",
              "      <td>IT</td>\n",
              "      <td>Affluent Customer</td>\n",
              "      <td>N</td>\n",
              "      <td>NaN</td>\n",
              "      <td>No</td>\n",
              "      <td>NaN</td>\n",
              "    </tr>\n",
              "    <tr>\n",
              "      <th>3882</th>\n",
              "      <td>3883</td>\n",
              "      <td>Nissa</td>\n",
              "      <td>Conrad</td>\n",
              "      <td>U</td>\n",
              "      <td>35</td>\n",
              "      <td>NaN</td>\n",
              "      <td>Legal Assistant</td>\n",
              "      <td>IT</td>\n",
              "      <td>Mass Customer</td>\n",
              "      <td>N</td>\n",
              "      <td>NaN</td>\n",
              "      <td>No</td>\n",
              "      <td>NaN</td>\n",
              "    </tr>\n",
              "    <tr>\n",
              "      <th>3930</th>\n",
              "      <td>3931</td>\n",
              "      <td>Kylie</td>\n",
              "      <td>Epine</td>\n",
              "      <td>U</td>\n",
              "      <td>19</td>\n",
              "      <td>NaN</td>\n",
              "      <td>NaN</td>\n",
              "      <td>IT</td>\n",
              "      <td>High Net Worth</td>\n",
              "      <td>N</td>\n",
              "      <td>NaN</td>\n",
              "      <td>Yes</td>\n",
              "      <td>NaN</td>\n",
              "    </tr>\n",
              "    <tr>\n",
              "      <th>3934</th>\n",
              "      <td>3935</td>\n",
              "      <td>Teodor</td>\n",
              "      <td>Alfonsini</td>\n",
              "      <td>U</td>\n",
              "      <td>72</td>\n",
              "      <td>NaN</td>\n",
              "      <td>NaN</td>\n",
              "      <td>IT</td>\n",
              "      <td>High Net Worth</td>\n",
              "      <td>N</td>\n",
              "      <td>NaN</td>\n",
              "      <td>Yes</td>\n",
              "      <td>NaN</td>\n",
              "    </tr>\n",
              "    <tr>\n",
              "      <th>3997</th>\n",
              "      <td>3998</td>\n",
              "      <td>Sarene</td>\n",
              "      <td>Woolley</td>\n",
              "      <td>U</td>\n",
              "      <td>60</td>\n",
              "      <td>NaN</td>\n",
              "      <td>Assistant Manager</td>\n",
              "      <td>IT</td>\n",
              "      <td>High Net Worth</td>\n",
              "      <td>N</td>\n",
              "      <td>NaN</td>\n",
              "      <td>No</td>\n",
              "      <td>NaN</td>\n",
              "    </tr>\n",
              "  </tbody>\n",
              "</table>\n",
              "<p>4000 rows × 13 columns</p>\n",
              "</div>"
            ],
            "text/plain": [
              "      customer_id first_name  last_name  ...             default  owns_car tenure\n",
              "33             34   Jephthah   Bachmann  ...                 NaN        No   20.0\n",
              "719           720     Darrel      Canet  ...  1;DROP TABLE users        No    6.0\n",
              "1091         1092     Katlin    Creddon  ...  ì¬íê³¼íì ì´íì°êµ¬ì        No    5.0\n",
              "3409         3410    Merrili    Brittin  ...                   á        No   16.0\n",
              "2412         2413      Abbey     Murrow  ...                  á        Yes   17.0\n",
              "...           ...        ...        ...  ...                 ...       ...    ...\n",
              "3778         3779      Ulick     Daspar  ...                 NaN        No    NaN\n",
              "3882         3883      Nissa     Conrad  ...                 NaN        No    NaN\n",
              "3930         3931      Kylie      Epine  ...                 NaN       Yes    NaN\n",
              "3934         3935     Teodor  Alfonsini  ...                 NaN       Yes    NaN\n",
              "3997         3998     Sarene    Woolley  ...                 NaN        No    NaN\n",
              "\n",
              "[4000 rows x 13 columns]"
            ]
          },
          "metadata": {
            "tags": []
          },
          "execution_count": 11
        }
      ]
    },
    {
      "cell_type": "markdown",
      "metadata": {
        "id": "qyThZJq8JGmn",
        "colab_type": "text"
      },
      "source": [
        "\n",
        "\n",
        "> If we take a look at the first client (Jephthah Bachmann, we can see that he was born in 1843, which means that they are 177 years old. This is obviously an error in the data.\n",
        "\n"
      ]
    },
    {
      "cell_type": "markdown",
      "metadata": {
        "id": "koZfC0wIKQRL",
        "colab_type": "text"
      },
      "source": [
        "### Missing Values"
      ]
    },
    {
      "cell_type": "markdown",
      "metadata": {
        "id": "kL4o0utcK10R",
        "colab_type": "text"
      },
      "source": [
        "Let's proceed to count the missing values ​​in all data frames"
      ]
    },
    {
      "cell_type": "code",
      "metadata": {
        "id": "7SkrjXxEK_W3",
        "colab_type": "code",
        "colab": {
          "base_uri": "https://localhost:8080/",
          "height": 170
        },
        "outputId": "2f9e0c36-ba6a-4aae-da0e-0d3aa1cb1f39"
      },
      "source": [
        "print('Missing Values in CustomerAddress \\n\\n{}'.format(df_Costumer_Address.isnull().sum()))"
      ],
      "execution_count": null,
      "outputs": [
        {
          "output_type": "stream",
          "text": [
            "Missing Values in CustomerAddress \n",
            "\n",
            "customer_id           0\n",
            "address               0\n",
            "postcode              0\n",
            "state                 0\n",
            "country               0\n",
            "property_valuation    0\n",
            "dtype: int64\n"
          ],
          "name": "stdout"
        }
      ]
    },
    {
      "cell_type": "code",
      "metadata": {
        "id": "hKsWDPjxP_FQ",
        "colab_type": "code",
        "colab": {
          "base_uri": "https://localhost:8080/",
          "height": 306
        },
        "outputId": "26130ff8-d330-403c-90cd-2aa21ffcf477"
      },
      "source": [
        "print('\\nMissing Values in CustomerDemographic \\n\\n{}'.format(df_Costumer_Demographic.isnull().sum()))"
      ],
      "execution_count": null,
      "outputs": [
        {
          "output_type": "stream",
          "text": [
            "\n",
            "Missing Values in CustomerDemographic \n",
            "\n",
            "customer_id                              0\n",
            "first_name                               0\n",
            "last_name                              125\n",
            "gender                                   0\n",
            "past_3_years_bike_related_purchases      0\n",
            "DOB                                     87\n",
            "job_title                              506\n",
            "job_industry_category                  656\n",
            "wealth_segment                           0\n",
            "deceased_indicator                       0\n",
            "default                                302\n",
            "owns_car                                 0\n",
            "tenure                                  87\n",
            "dtype: int64\n"
          ],
          "name": "stdout"
        }
      ]
    },
    {
      "cell_type": "code",
      "metadata": {
        "id": "Jc9jkRPoQFML",
        "colab_type": "code",
        "colab": {
          "base_uri": "https://localhost:8080/",
          "height": 306
        },
        "outputId": "32aeeb8a-fd07-43c8-c30a-a5a2c3410a30"
      },
      "source": [
        "print('\\nMissing Values in Transactions \\n\\n{}'.format(df_Transactions.isnull().sum()))"
      ],
      "execution_count": null,
      "outputs": [
        {
          "output_type": "stream",
          "text": [
            "\n",
            "Missing Values in Transactions \n",
            "\n",
            "transaction_id               0\n",
            "product_id                   0\n",
            "customer_id                  0\n",
            "transaction_date             0\n",
            "online_order               360\n",
            "order_status                 0\n",
            "brand                      197\n",
            "product_line               197\n",
            "product_class              197\n",
            "product_size               197\n",
            "list_price                   0\n",
            "standard_cost              197\n",
            "product_first_sold_date    197\n",
            "dtype: int64\n"
          ],
          "name": "stdout"
        }
      ]
    },
    {
      "cell_type": "markdown",
      "metadata": {
        "id": "5BA1s5QMQjE2",
        "colab_type": "text"
      },
      "source": [
        "### Let's See the CostumerAddress Data Frame"
      ]
    },
    {
      "cell_type": "code",
      "metadata": {
        "id": "1eKDQiEiQ1O7",
        "colab_type": "code",
        "colab": {
          "base_uri": "https://localhost:8080/",
          "height": 68
        },
        "outputId": "01a52de4-8612-47ea-fcf5-1cac8434f8d7"
      },
      "source": [
        "df_Costumer_Address.columns"
      ],
      "execution_count": null,
      "outputs": [
        {
          "output_type": "execute_result",
          "data": {
            "text/plain": [
              "Index(['customer_id', 'address', 'postcode', 'state', 'country',\n",
              "       'property_valuation'],\n",
              "      dtype='object')"
            ]
          },
          "metadata": {
            "tags": []
          },
          "execution_count": 16
        }
      ]
    },
    {
      "cell_type": "code",
      "metadata": {
        "id": "4wXs88FnRvUX",
        "colab_type": "code",
        "colab": {
          "base_uri": "https://localhost:8080/",
          "height": 34
        },
        "outputId": "4f18b541-e5f1-493e-da97-5afe86a92cb2"
      },
      "source": [
        "df_Costumer_Address['country'].loc[df_Costumer_Address['country'] == 'Australia'].count()"
      ],
      "execution_count": null,
      "outputs": [
        {
          "output_type": "execute_result",
          "data": {
            "text/plain": [
              "3999"
            ]
          },
          "metadata": {
            "tags": []
          },
          "execution_count": 17
        }
      ]
    },
    {
      "cell_type": "markdown",
      "metadata": {
        "id": "Zju-xAyTSu0-",
        "colab_type": "text"
      },
      "source": [
        "\n",
        "\n",
        "> All Costumer are from Australia, this data column is useless.\n",
        "\n"
      ]
    },
    {
      "cell_type": "markdown",
      "metadata": {
        "id": "W36A9HY0TO_O",
        "colab_type": "text"
      },
      "source": [
        "### Let's See the Costumer_Demographic Data Frame"
      ]
    },
    {
      "cell_type": "code",
      "metadata": {
        "id": "BhvT0YF6UO32",
        "colab_type": "code",
        "colab": {
          "base_uri": "https://localhost:8080/",
          "height": 102
        },
        "outputId": "b6371c22-5122-4ede-f54b-b044aeaca1bf"
      },
      "source": [
        "df_Costumer_Demographic.columns"
      ],
      "execution_count": null,
      "outputs": [
        {
          "output_type": "execute_result",
          "data": {
            "text/plain": [
              "Index(['customer_id', 'first_name', 'last_name', 'gender',\n",
              "       'past_3_years_bike_related_purchases', 'DOB', 'job_title',\n",
              "       'job_industry_category', 'wealth_segment', 'deceased_indicator',\n",
              "       'default', 'owns_car', 'tenure'],\n",
              "      dtype='object')"
            ]
          },
          "metadata": {
            "tags": []
          },
          "execution_count": 18
        }
      ]
    },
    {
      "cell_type": "code",
      "metadata": {
        "id": "gz1stUeqVW37",
        "colab_type": "code",
        "colab": {
          "base_uri": "https://localhost:8080/",
          "height": 136
        },
        "outputId": "cb580018-6155-401b-b2fa-49fc51774fab"
      },
      "source": [
        "df_Costumer_Demographic['gender'].value_counts()"
      ],
      "execution_count": null,
      "outputs": [
        {
          "output_type": "execute_result",
          "data": {
            "text/plain": [
              "Female    2037\n",
              "Male      1872\n",
              "U           88\n",
              "M            1\n",
              "Femal        1\n",
              "F            1\n",
              "Name: gender, dtype: int64"
            ]
          },
          "metadata": {
            "tags": []
          },
          "execution_count": 19
        }
      ]
    },
    {
      "cell_type": "markdown",
      "metadata": {
        "id": "9xF-m3sqjNvq",
        "colab_type": "text"
      },
      "source": [
        "\n",
        "\n",
        "> We can see that de 'gender' column have some incosistences with the name of the fields.\n",
        "\n"
      ]
    },
    {
      "cell_type": "code",
      "metadata": {
        "id": "WOHZCu1njcWQ",
        "colab_type": "code",
        "colab": {
          "base_uri": "https://localhost:8080/",
          "height": 238
        },
        "outputId": "dba9a0c8-eb5b-4ef4-abd1-076f8c3a4112"
      },
      "source": [
        "df_Costumer_Demographic.groupby('last_name')['first_name'].value_counts(sorted)"
      ],
      "execution_count": null,
      "outputs": [
        {
          "output_type": "execute_result",
          "data": {
            "text/plain": [
              "last_name   first_name\n",
              "Aarons      Land          1.0\n",
              "Aaronsohn   Gustav        1.0\n",
              "Abels       Addia         1.0\n",
              "Abelwhite   Ulrica        1.0\n",
              "Abercromby  Carry         1.0\n",
              "                         ... \n",
              "Zoellner    Jessalyn      1.0\n",
              "Zoren       Moreen        1.0\n",
              "Zorn        Arnie         1.0\n",
              "Zuker       Warner        1.0\n",
              "cornhill    Benson        1.0\n",
              "Name: first_name, Length: 3875, dtype: float64"
            ]
          },
          "metadata": {
            "tags": []
          },
          "execution_count": 20
        }
      ]
    },
    {
      "cell_type": "markdown",
      "metadata": {
        "id": "qnOMeBuhkZDL",
        "colab_type": "text"
      },
      "source": [
        "\n",
        "\n",
        "> There are no users with the same name and last name repeated\n",
        "\n"
      ]
    },
    {
      "cell_type": "code",
      "metadata": {
        "id": "VNP5yge3khI2",
        "colab_type": "code",
        "colab": {
          "base_uri": "https://localhost:8080/",
          "height": 204
        },
        "outputId": "ca2314ce-577b-467d-8111-19d2ee57d25b"
      },
      "source": [
        "df_Costumer_Demographic['default'].head(10)"
      ],
      "execution_count": null,
      "outputs": [
        {
          "output_type": "execute_result",
          "data": {
            "text/plain": [
              "0                                                   \"'\n",
              "1                         <script>alert('hi')</script>\n",
              "2                                               01-feb\n",
              "3    () { _; } >_[$($())] { touch /tmp/blns.shellsh...\n",
              "4                                                  NIL\n",
              "5                                             ðµ ð ð ð\n",
              "6                                            â°â´âµâââ\n",
              "7                              (â¯Â°â¡Â°ï¼â¯ï¸µ â»ââ»)\n",
              "8                                                  0/0\n",
              "9                                                 ð©ð½\n",
              "Name: default, dtype: object"
            ]
          },
          "metadata": {
            "tags": []
          },
          "execution_count": 21
        }
      ]
    },
    {
      "cell_type": "markdown",
      "metadata": {
        "id": "MvAW7-54mT5j",
        "colab_type": "text"
      },
      "source": [
        "\n",
        "\n",
        "> The 'default' column don't have relevant data.\n",
        "\n"
      ]
    },
    {
      "cell_type": "markdown",
      "metadata": {
        "id": "nKiTWISlsk__",
        "colab_type": "text"
      },
      "source": [
        "### Let's See the Transactions Data Frame"
      ]
    },
    {
      "cell_type": "code",
      "metadata": {
        "id": "hqfZC98MsXKt",
        "colab_type": "code",
        "colab": {
          "base_uri": "https://localhost:8080/",
          "height": 102
        },
        "outputId": "3eb63c2d-e2fb-4fed-fb18-de4c55054448"
      },
      "source": [
        "df_Transactions.columns"
      ],
      "execution_count": null,
      "outputs": [
        {
          "output_type": "execute_result",
          "data": {
            "text/plain": [
              "Index(['transaction_id', 'product_id', 'customer_id', 'transaction_date',\n",
              "       'online_order', 'order_status', 'brand', 'product_line',\n",
              "       'product_class', 'product_size', 'list_price', 'standard_cost',\n",
              "       'product_first_sold_date'],\n",
              "      dtype='object')"
            ]
          },
          "metadata": {
            "tags": []
          },
          "execution_count": 24
        }
      ]
    },
    {
      "cell_type": "code",
      "metadata": {
        "id": "jFOrPqP9tu78",
        "colab_type": "code",
        "colab": {
          "base_uri": "https://localhost:8080/",
          "height": 119
        },
        "outputId": "fa6cad14-af8d-4624-eb17-d5ed6e33230a"
      },
      "source": [
        "df_Transactions['list_price'].head()"
      ],
      "execution_count": null,
      "outputs": [
        {
          "output_type": "execute_result",
          "data": {
            "text/plain": [
              "0      71,49\n",
              "1    2091,47\n",
              "2    1793,43\n",
              "3    1198,46\n",
              "4     1765,3\n",
              "Name: list_price, dtype: object"
            ]
          },
          "metadata": {
            "tags": []
          },
          "execution_count": 25
        }
      ]
    },
    {
      "cell_type": "markdown",
      "metadata": {
        "id": "4LGY2TulxixG",
        "colab_type": "text"
      },
      "source": [
        "We can se that It was used as a comma to separate the decimals."
      ]
    }
  ]
}