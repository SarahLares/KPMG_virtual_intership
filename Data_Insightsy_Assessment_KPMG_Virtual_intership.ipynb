{
  "nbformat": 4,
  "nbformat_minor": 0,
  "metadata": {
    "colab": {
      "name": "Data_Insightsy_Assessment_KPMG_Virtual_intership.ipynb",
      "provenance": [],
      "authorship_tag": "ABX9TyOgM6pGD4JJIQPjfTPiv7+1",
      "include_colab_link": true
    },
    "kernelspec": {
      "name": "python3",
      "display_name": "Python 3"
    }
  },
  "cells": [
    {
      "cell_type": "markdown",
      "metadata": {
        "id": "view-in-github",
        "colab_type": "text"
      },
      "source": [
        "<a href=\"https://colab.research.google.com/github/SarahLares/KPMG_virtual_intership/blob/master/Data_Insightsy_Assessment_KPMG_Virtual_intership.ipynb\" target=\"_parent\"><img src=\"https://colab.research.google.com/assets/colab-badge.svg\" alt=\"Open In Colab\"/></a>"
      ]
    },
    {
      "cell_type": "code",
      "metadata": {
        "id": "vYLSBrKBXYx2",
        "colab_type": "code",
        "colab": {}
      },
      "source": [
        "import pandas as pd\n",
        "import numpy as np\n",
        "import matplotlib.pyplot as plt"
      ],
      "execution_count": 2,
      "outputs": []
    },
    {
      "cell_type": "code",
      "metadata": {
        "id": "nzKxpJCwYN9t",
        "colab_type": "code",
        "colab": {}
      },
      "source": [
        "df_Cust_add = pd.read_csv('CustomerAddress.csv')\n",
        "df_Cust_dem = pd.read_csv('CustomerDemographic.csv')\n",
        "df_New_cust = pd.read_csv('NewCostumerList.csv')\n",
        "df_Transactions = pd.read_csv('Transactions.csv')"
      ],
      "execution_count": 6,
      "outputs": []
    },
    {
      "cell_type": "markdown",
      "metadata": {
        "id": "TRW-9Hwpb6Q1",
        "colab_type": "text"
      },
      "source": [
        "> As seen in the previous task, there were not the same number of customers in the data sets **CustomerDemographic** and **CustomerAddress** so, only the customer_id that are in both data sets will be used and both sets will be united in one single Dataframe\n",
        "\n",
        "\n",
        "\n",
        "\n",
        "\n"
      ]
    },
    {
      "cell_type": "code",
      "metadata": {
        "id": "cRD8nKiYZrdj",
        "colab_type": "code",
        "colab": {}
      },
      "source": [
        "all_cust = pd.merge(left=df_Cust_add,right=df_Cust_dem, left_on='customer_id', right_on='customer_id')"
      ],
      "execution_count": 17,
      "outputs": []
    },
    {
      "cell_type": "code",
      "metadata": {
        "id": "Avfy6f07aXTq",
        "colab_type": "code",
        "colab": {
          "base_uri": "https://localhost:8080/",
          "height": 34
        },
        "outputId": "4b2ea76b-09ac-4b3e-a74c-7b90c556c47f"
      },
      "source": [
        "all_cust.shape"
      ],
      "execution_count": 18,
      "outputs": [
        {
          "output_type": "execute_result",
          "data": {
            "text/plain": [
              "(3996, 18)"
            ]
          },
          "metadata": {
            "tags": []
          },
          "execution_count": 18
        }
      ]
    },
    {
      "cell_type": "code",
      "metadata": {
        "id": "vimfHCH_Y_f_",
        "colab_type": "code",
        "colab": {
          "base_uri": "https://localhost:8080/",
          "height": 411
        },
        "outputId": "ed4f9614-48fd-463c-91ce-3bb1785efe5d"
      },
      "source": [
        "all_cust.head()"
      ],
      "execution_count": 19,
      "outputs": [
        {
          "output_type": "execute_result",
          "data": {
            "text/html": [
              "<div>\n",
              "<style scoped>\n",
              "    .dataframe tbody tr th:only-of-type {\n",
              "        vertical-align: middle;\n",
              "    }\n",
              "\n",
              "    .dataframe tbody tr th {\n",
              "        vertical-align: top;\n",
              "    }\n",
              "\n",
              "    .dataframe thead th {\n",
              "        text-align: right;\n",
              "    }\n",
              "</style>\n",
              "<table border=\"1\" class=\"dataframe\">\n",
              "  <thead>\n",
              "    <tr style=\"text-align: right;\">\n",
              "      <th></th>\n",
              "      <th>customer_id</th>\n",
              "      <th>address</th>\n",
              "      <th>postcode</th>\n",
              "      <th>state</th>\n",
              "      <th>country</th>\n",
              "      <th>property_valuation</th>\n",
              "      <th>first_name</th>\n",
              "      <th>last_name</th>\n",
              "      <th>gender</th>\n",
              "      <th>past_3_years_bike_related_purchases</th>\n",
              "      <th>DOB</th>\n",
              "      <th>job_title</th>\n",
              "      <th>job_industry_category</th>\n",
              "      <th>wealth_segment</th>\n",
              "      <th>deceased_indicator</th>\n",
              "      <th>default</th>\n",
              "      <th>owns_car</th>\n",
              "      <th>tenure</th>\n",
              "    </tr>\n",
              "  </thead>\n",
              "  <tbody>\n",
              "    <tr>\n",
              "      <th>0</th>\n",
              "      <td>1</td>\n",
              "      <td>060 Morning Avenue</td>\n",
              "      <td>2016</td>\n",
              "      <td>New South Wales</td>\n",
              "      <td>Australia</td>\n",
              "      <td>10</td>\n",
              "      <td>Laraine</td>\n",
              "      <td>Medendorp</td>\n",
              "      <td>F</td>\n",
              "      <td>93</td>\n",
              "      <td>1953-10-12</td>\n",
              "      <td>Executive Secretary</td>\n",
              "      <td>Health</td>\n",
              "      <td>Mass Customer</td>\n",
              "      <td>N</td>\n",
              "      <td>\"'</td>\n",
              "      <td>Yes</td>\n",
              "      <td>11.0</td>\n",
              "    </tr>\n",
              "    <tr>\n",
              "      <th>1</th>\n",
              "      <td>2</td>\n",
              "      <td>6 Meadow Vale Court</td>\n",
              "      <td>2153</td>\n",
              "      <td>New South Wales</td>\n",
              "      <td>Australia</td>\n",
              "      <td>10</td>\n",
              "      <td>Eli</td>\n",
              "      <td>Bockman</td>\n",
              "      <td>Male</td>\n",
              "      <td>81</td>\n",
              "      <td>1980-12-16</td>\n",
              "      <td>Administrative Officer</td>\n",
              "      <td>Financial Services</td>\n",
              "      <td>Mass Customer</td>\n",
              "      <td>N</td>\n",
              "      <td>&lt;script&gt;alert('hi')&lt;/script&gt;</td>\n",
              "      <td>Yes</td>\n",
              "      <td>16.0</td>\n",
              "    </tr>\n",
              "    <tr>\n",
              "      <th>2</th>\n",
              "      <td>4</td>\n",
              "      <td>0 Holy Cross Court</td>\n",
              "      <td>4211</td>\n",
              "      <td>QLD</td>\n",
              "      <td>Australia</td>\n",
              "      <td>9</td>\n",
              "      <td>Talbot</td>\n",
              "      <td>NaN</td>\n",
              "      <td>Male</td>\n",
              "      <td>33</td>\n",
              "      <td>1961-10-03</td>\n",
              "      <td>NaN</td>\n",
              "      <td>IT</td>\n",
              "      <td>Mass Customer</td>\n",
              "      <td>N</td>\n",
              "      <td>() { _; } &gt;_[$($())] { touch /tmp/blns.shellsh...</td>\n",
              "      <td>No</td>\n",
              "      <td>7.0</td>\n",
              "    </tr>\n",
              "    <tr>\n",
              "      <th>3</th>\n",
              "      <td>5</td>\n",
              "      <td>17979 Del Mar Point</td>\n",
              "      <td>2448</td>\n",
              "      <td>New South Wales</td>\n",
              "      <td>Australia</td>\n",
              "      <td>4</td>\n",
              "      <td>Sheila-kathryn</td>\n",
              "      <td>Calton</td>\n",
              "      <td>Female</td>\n",
              "      <td>56</td>\n",
              "      <td>1977-05-13</td>\n",
              "      <td>Senior Editor</td>\n",
              "      <td>NaN</td>\n",
              "      <td>Affluent Customer</td>\n",
              "      <td>N</td>\n",
              "      <td>NIL</td>\n",
              "      <td>Yes</td>\n",
              "      <td>8.0</td>\n",
              "    </tr>\n",
              "    <tr>\n",
              "      <th>4</th>\n",
              "      <td>6</td>\n",
              "      <td>9 Oakridge Court</td>\n",
              "      <td>3216</td>\n",
              "      <td>VIC</td>\n",
              "      <td>Australia</td>\n",
              "      <td>9</td>\n",
              "      <td>Curr</td>\n",
              "      <td>Duckhouse</td>\n",
              "      <td>Male</td>\n",
              "      <td>35</td>\n",
              "      <td>1966-09-16</td>\n",
              "      <td>NaN</td>\n",
              "      <td>Retail</td>\n",
              "      <td>High Net Worth</td>\n",
              "      <td>N</td>\n",
              "      <td>ðµ ð ð ð</td>\n",
              "      <td>Yes</td>\n",
              "      <td>13.0</td>\n",
              "    </tr>\n",
              "  </tbody>\n",
              "</table>\n",
              "</div>"
            ],
            "text/plain": [
              "   customer_id              address  ...  owns_car tenure\n",
              "0            1   060 Morning Avenue  ...       Yes   11.0\n",
              "1            2  6 Meadow Vale Court  ...       Yes   16.0\n",
              "2            4   0 Holy Cross Court  ...        No    7.0\n",
              "3            5  17979 Del Mar Point  ...       Yes    8.0\n",
              "4            6     9 Oakridge Court  ...       Yes   13.0\n",
              "\n",
              "[5 rows x 18 columns]"
            ]
          },
          "metadata": {
            "tags": []
          },
          "execution_count": 19
        }
      ]
    },
    {
      "cell_type": "code",
      "metadata": {
        "id": "Mx_KvCQoagc-",
        "colab_type": "code",
        "colab": {}
      },
      "source": [
        "trans_users = []\n",
        "for cust in all_cust['customer_id']:\n",
        "  tran = 0\n",
        "  tran = df_Transactions.loc[df_Transactions['customer_id']==cust].shape[0]\n",
        "  trans_users.append(tran)\n"
      ],
      "execution_count": 43,
      "outputs": []
    },
    {
      "cell_type": "markdown",
      "metadata": {
        "id": "jVMCvsQAhwVY",
        "colab_type": "text"
      },
      "source": [
        "We calculate the number of transaction for each **user_id** in the last 3 months and this is a new column in the data set"
      ]
    },
    {
      "cell_type": "code",
      "metadata": {
        "id": "TVAB9GYMe-XM",
        "colab_type": "code",
        "colab": {}
      },
      "source": [
        "tran = pd.DataFrame(trans_users, columns=['Transactions_last_3_months'])"
      ],
      "execution_count": 48,
      "outputs": []
    },
    {
      "cell_type": "code",
      "metadata": {
        "id": "MIs2sDQEdatb",
        "colab_type": "code",
        "colab": {}
      },
      "source": [
        "all_cust = pd.concat([all_cust,tran], axis=1)"
      ],
      "execution_count": 51,
      "outputs": []
    },
    {
      "cell_type": "code",
      "metadata": {
        "id": "iwV0ccjQlCcR",
        "colab_type": "code",
        "colab": {
          "base_uri": "https://localhost:8080/",
          "height": 170
        },
        "outputId": "cea6b08c-ce2f-4bee-a5f5-b82a1065dd20"
      },
      "source": [
        "all_cust['Transactions_last_3_months'].describe()"
      ],
      "execution_count": 62,
      "outputs": [
        {
          "output_type": "execute_result",
          "data": {
            "text/plain": [
              "count    3996.000000\n",
              "mean        4.996997\n",
              "std         2.890404\n",
              "min         0.000000\n",
              "25%         3.000000\n",
              "50%         5.000000\n",
              "75%         7.000000\n",
              "max        14.000000\n",
              "Name: Transactions_last_3_months, dtype: float64"
            ]
          },
          "metadata": {
            "tags": []
          },
          "execution_count": 62
        }
      ]
    },
    {
      "cell_type": "markdown",
      "metadata": {
        "id": "eG9lqsh8lYM8",
        "colab_type": "text"
      },
      "source": [
        "We can see that the mean of transaction in last 3 months for all teh customer is around 5 and 50% of clients made this number of transactions. And approximately 30% of customers made 7 transactions. "
      ]
    },
    {
      "cell_type": "code",
      "metadata": {
        "id": "DsxLGUBnmdh4",
        "colab_type": "code",
        "colab": {
          "base_uri": "https://localhost:8080/",
          "height": 34
        },
        "outputId": "d2c94626-6761-49df-fc4b-a175b96fe9dc"
      },
      "source": [
        "print(\"Percentage of customers who made 7 or more transactions in the last 3 months {:.5}\".format(all_cust.loc[all_cust['Transactions_last_3_months']>= 7].shape[0]*100/3996))"
      ],
      "execution_count": 92,
      "outputs": [
        {
          "output_type": "stream",
          "text": [
            "Percentage of customers who made 7 or more transactions in the last 3 months 30.28\n"
          ],
          "name": "stdout"
        }
      ]
    }
  ]
}